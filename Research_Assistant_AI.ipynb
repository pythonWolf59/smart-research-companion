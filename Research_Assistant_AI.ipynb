{
  "nbformat": 4,
  "nbformat_minor": 0,
  "metadata": {
    "colab": {
      "provenance": [],
      "gpuType": "T4",
      "authorship_tag": "ABX9TyNhcfKySvd2+JcDStNPjfBZ",
      "include_colab_link": true
    },
    "kernelspec": {
      "name": "python3",
      "display_name": "Python 3"
    },
    "language_info": {
      "name": "python"
    }
  },
  "cells": [
    {
      "cell_type": "markdown",
      "metadata": {
        "id": "view-in-github",
        "colab_type": "text"
      },
      "source": [
        "<a href=\"https://colab.research.google.com/github/pythonWolf59/smart-research-companion/blob/dev/Research_Assistant_AI.ipynb\" target=\"_parent\"><img src=\"https://colab.research.google.com/assets/colab-badge.svg\" alt=\"Open In Colab\"/></a>"
      ]
    },
    {
      "cell_type": "code",
      "execution_count": 21,
      "metadata": {
        "id": "raGSuMkxlZ5p"
      },
      "outputs": [],
      "source": [
        "# Install required libraries\n",
        "!pip install openai -q  gradio PyMuPDF feedparser fpdf duckduckgo_search arxiv"
      ]
    },
    {
      "cell_type": "code",
      "source": [
        "import os\n",
        "import gradio as gr\n",
        "import fitz  # PyMuPDF\n",
        "from openai import OpenAI\n",
        "from duckduckgo_search import DDGS\n",
        "from fpdf import FPDF\n",
        "from datetime import datetime\n",
        "from arxiv import Search\n",
        "import re\n",
        "\n",
        "# --- Get Groq API key ---\n",
        "\n",
        "from google.colab import userdata\n",
        "groq_api_key = userdata.get('OPENAI_API_KEY')\n",
        "\n",
        "client = OpenAI(\n",
        "    base_url=\"https://api.groq.com/openai/v1\",\n",
        "    api_key=groq_api_key\n",
        ")\n",
        "\n",
        "# --- PDF Text Extraction ---\n",
        "def extract_text_from_pdf(pdf_file):\n",
        "    with open(pdf_file.name, \"rb\") as f:\n",
        "        doc = fitz.open(stream=f.read(), filetype=\"pdf\")\n",
        "    text = \"\"\n",
        "    for page in doc:\n",
        "        text += page.get_text()\n",
        "    return text\n",
        "\n",
        "# --- Chunk and Summarize ---\n",
        "def chunk_text(text, max_tokens=3000):\n",
        "    paragraphs = text.split(\"\\n\")\n",
        "    chunks, chunk = [], \"\"\n",
        "    for para in paragraphs:\n",
        "        if len(chunk) + len(para) < max_tokens:\n",
        "            chunk += para + \"\\n\"\n",
        "        else:\n",
        "            chunks.append(chunk)\n",
        "            chunk = para + \"\\n\"\n",
        "    if chunk:\n",
        "        chunks.append(chunk)\n",
        "    return chunks\n",
        "\n",
        "def summarize_with_groq(text):\n",
        "    chunks = chunk_text(text)\n",
        "    summaries = []\n",
        "    for i, chunk in enumerate(chunks):\n",
        "        response = client.chat.completions.create(\n",
        "            model=\"meta-llama/llama-4-scout-17b-16e-instruct\",\n",
        "            messages=[\n",
        "                {\"role\": \"user\", \"content\": f\"Summarize the following research content:\\n{chunk}\"}\n",
        "            ]\n",
        "        )\n",
        "        summaries.append(response.choices[0].message.content.strip())\n",
        "    full_summary = \"\\n\\n\".join(summaries)\n",
        "    return full_summary\n",
        "\n",
        "# --- ArXiv Search and Citation ---\n",
        "def search_arxiv(query):\n",
        "    results = arxiv.Search(query=query, max_results=5, sort_by=arxiv.SortCriterion.Relevance)\n",
        "    papers, citations = [], []\n",
        "    for result in results.results():\n",
        "        paper_info = f\"**{result.title}**\\nURL: {result.entry_id}\\nSummary: {result.summary[:500]}...\"\n",
        "        papers.append(paper_info)\n",
        "        citations.append(generate_citation(result))\n",
        "    return \"\\n\\n\".join(papers), \"\\n\\n\".join(citations)\n",
        "\n",
        "def generate_citation(result):\n",
        "    year = result.published.year\n",
        "    authors = result.authors[0].name + (\" et al.\" if len(result.authors) > 1 else \"\")\n",
        "    apa = f\"{authors} ({year}). {result.title}. {result.entry_id}\"\n",
        "    bibtex = f\"@article{{result.entry_id.split('/')[-1]}},\\n  title={{ {result.title} }},\\n  author={{ {' and '.join([a.name for a in result.authors])} }},\\n  journal={{arXiv preprint}},\\n  year={{ {year} }},\\n  url={{ {result.entry_id} }}\\n}}\"\n",
        "    return f\"APA:\\n{apa}\\n\\nBibTeX:\\n{bibtex}\"\n",
        "\n",
        "# --- Export Helpers ---\n",
        "def export_to_pdf(content):\n",
        "    pdf = FPDF()\n",
        "    pdf.add_page()\n",
        "    pdf.set_font(\"Arial\", size=12)\n",
        "    for line in content.split(\"\\n\"):\n",
        "        pdf.multi_cell(0, 10, line)\n",
        "    filename = f\"summary_{datetime.datetime.now().strftime('%Y%m%d%H%M%S')}.pdf\"\n",
        "    pdf.output(filename)\n",
        "    return filename\n",
        "\n",
        "def export_to_txt(content):\n",
        "    filename = f\"citation_{datetime.datetime.now().strftime('%Y%m%d%H%M%S')}.txt\"\n",
        "    with open(filename, \"w\") as f:\n",
        "        f.write(content)\n",
        "    return filename\n",
        "\n",
        "# --- Gradio Interface ---\n",
        "def handle_pdf(pdf_file):\n",
        "    text = extract_text_from_pdf(pdf_file)\n",
        "    summary = summarize_with_groq(text)\n",
        "    return summary\n",
        "\n",
        "def handle_prompt(prompt):\n",
        "    papers, citations = search_arxiv(prompt.replace(\" \", \"+\"))\n",
        "    return papers, citations\n",
        "\n",
        "def launch_app():\n",
        "    with gr.Blocks(theme=gr.themes.Soft()) as demo:\n",
        "        gr.Markdown(\"\"\"# 🧠 Research Assistant AI\\nUpload PDF or Search Research Papers\"\"\")\n",
        "\n",
        "        with gr.Tab(\"📄 Upload PDF\"):\n",
        "            with gr.Row():\n",
        "                pdf_input = gr.File(label=\"Upload PDF\", file_types=[\".pdf\"])\n",
        "                summarize_btn = gr.Button(\"Summarize\")\n",
        "            summary_output = gr.Textbox(label=\"Summary\", lines=20)\n",
        "            with gr.Row():\n",
        "                export_pdf = gr.Button(\"Export Summary as PDF\")\n",
        "                export_cite = gr.Button(\"Export Citations as TXT\")\n",
        "\n",
        "        with gr.Tab(\"🔍 Search Papers\"):\n",
        "            with gr.Row():\n",
        "                prompt_input = gr.Textbox(label=\"Enter your research topic\")\n",
        "                search_btn = gr.Button(\"Search\")\n",
        "            paper_output = gr.Textbox(label=\"Papers\", lines=10)\n",
        "            citation_output = gr.Textbox(label=\"Citations\", lines=10)\n",
        "            with gr.Row():\n",
        "                export_paper_pdf = gr.Button(\"Export Papers as PDF\")\n",
        "                export_paper_cite = gr.Button(\"Export Citations as TXT\")\n",
        "\n",
        "        summarize_btn.click(fn=handle_pdf, inputs=pdf_input, outputs=summary_output)\n",
        "        search_btn.click(fn=handle_prompt, inputs=prompt_input, outputs=[paper_output, citation_output])\n",
        "\n",
        "        export_pdf.click(fn=export_to_pdf, inputs=summary_output, outputs=gr.File())\n",
        "        export_cite.click(fn=export_to_txt, inputs=citation_output, outputs=gr.File())\n",
        "\n",
        "        export_paper_pdf.click(fn=export_to_pdf, inputs=paper_output, outputs=gr.File())\n",
        "        export_paper_cite.click(fn=export_to_txt, inputs=citation_output, outputs=gr.File())\n",
        "\n",
        "    demo.launch(debug=True)\n",
        "\n",
        "launch_app()\n"
      ],
      "metadata": {
        "colab": {
          "base_uri": "https://localhost:8080/",
          "height": 1000
        },
        "id": "kPdtM_NP0ntJ",
        "outputId": "4ecf7b23-919c-4923-c445-da1b0f65d472"
      },
      "execution_count": 25,
      "outputs": [
        {
          "output_type": "stream",
          "name": "stdout",
          "text": [
            "It looks like you are running Gradio on a hosted a Jupyter notebook. For the Gradio app to work, sharing must be enabled. Automatically setting `share=True` (you can turn this off by setting `share=False` in `launch()` explicitly).\n",
            "\n",
            "Colab notebook detected. This cell will run indefinitely so that you can see errors and logs. To turn off, set debug=False in launch().\n",
            "* Running on public URL: https://fe77d844969fb0cf49.gradio.live\n",
            "\n",
            "This share link expires in 1 week. For free permanent hosting and GPU upgrades, run `gradio deploy` from the terminal in the working directory to deploy to Hugging Face Spaces (https://huggingface.co/spaces)\n"
          ]
        },
        {
          "output_type": "display_data",
          "data": {
            "text/plain": [
              "<IPython.core.display.HTML object>"
            ],
            "text/html": [
              "<div><iframe src=\"https://fe77d844969fb0cf49.gradio.live\" width=\"100%\" height=\"500\" allow=\"autoplay; camera; microphone; clipboard-read; clipboard-write;\" frameborder=\"0\" allowfullscreen></iframe></div>"
            ]
          },
          "metadata": {}
        },
        {
          "output_type": "stream",
          "name": "stderr",
          "text": [
            "Traceback (most recent call last):\n",
            "  File \"/usr/local/lib/python3.11/dist-packages/gradio/queueing.py\", line 625, in process_events\n",
            "    response = await route_utils.call_process_api(\n",
            "               ^^^^^^^^^^^^^^^^^^^^^^^^^^^^^^^^^^^\n",
            "  File \"/usr/local/lib/python3.11/dist-packages/gradio/route_utils.py\", line 322, in call_process_api\n",
            "    output = await app.get_blocks().process_api(\n",
            "             ^^^^^^^^^^^^^^^^^^^^^^^^^^^^^^^^^^^\n",
            "  File \"/usr/local/lib/python3.11/dist-packages/gradio/blocks.py\", line 2191, in process_api\n",
            "    result = await self.call_function(\n",
            "             ^^^^^^^^^^^^^^^^^^^^^^^^^\n",
            "  File \"/usr/local/lib/python3.11/dist-packages/gradio/blocks.py\", line 1702, in call_function\n",
            "    prediction = await anyio.to_thread.run_sync(  # type: ignore\n",
            "                 ^^^^^^^^^^^^^^^^^^^^^^^^^^^^^^^^^^^^^^^^^^^^^^^\n",
            "  File \"/usr/local/lib/python3.11/dist-packages/anyio/to_thread.py\", line 56, in run_sync\n",
            "    return await get_async_backend().run_sync_in_worker_thread(\n",
            "           ^^^^^^^^^^^^^^^^^^^^^^^^^^^^^^^^^^^^^^^^^^^^^^^^^^^^\n",
            "  File \"/usr/local/lib/python3.11/dist-packages/anyio/_backends/_asyncio.py\", line 2470, in run_sync_in_worker_thread\n",
            "    return await future\n",
            "           ^^^^^^^^^^^^\n",
            "  File \"/usr/local/lib/python3.11/dist-packages/anyio/_backends/_asyncio.py\", line 967, in run\n",
            "    result = context.run(func, *args)\n",
            "             ^^^^^^^^^^^^^^^^^^^^^^^^\n",
            "  File \"/usr/local/lib/python3.11/dist-packages/gradio/utils.py\", line 894, in wrapper\n",
            "    response = f(*args, **kwargs)\n",
            "               ^^^^^^^^^^^^^^^^^^\n",
            "  File \"<ipython-input-25-1747866394>\", line 95, in handle_pdf\n",
            "    summary = summarize_with_groq(text)\n",
            "              ^^^^^^^^^^^^^^^^^^^^^^^^^\n",
            "  File \"<ipython-input-25-1747866394>\", line 48, in summarize_with_groq\n",
            "    response = client.chat.completions.create(\n",
            "               ^^^^^^^^^^^^^^^^^^^^^^^^^^^^^^^\n",
            "  File \"/usr/local/lib/python3.11/dist-packages/openai/_utils/_utils.py\", line 287, in wrapper\n",
            "    return func(*args, **kwargs)\n",
            "           ^^^^^^^^^^^^^^^^^^^^^\n",
            "  File \"/usr/local/lib/python3.11/dist-packages/openai/resources/chat/completions/completions.py\", line 925, in create\n",
            "    return self._post(\n",
            "           ^^^^^^^^^^^\n",
            "  File \"/usr/local/lib/python3.11/dist-packages/openai/_base_client.py\", line 1242, in post\n",
            "    return cast(ResponseT, self.request(cast_to, opts, stream=stream, stream_cls=stream_cls))\n",
            "                           ^^^^^^^^^^^^^^^^^^^^^^^^^^^^^^^^^^^^^^^^^^^^^^^^^^^^^^^^^^^^^^^^^\n",
            "  File \"/usr/local/lib/python3.11/dist-packages/openai/_base_client.py\", line 1037, in request\n",
            "    raise self._make_status_error_from_response(err.response) from None\n",
            "openai.InternalServerError: Error code: 503 - {'error': {'message': 'Service unavailable. We are working on a fix!', 'type': 'internal_server_error'}}\n"
          ]
        },
        {
          "output_type": "stream",
          "name": "stdout",
          "text": [
            "Keyboard interruption in main thread... closing server.\n",
            "Killing tunnel 127.0.0.1:7864 <> https://fe77d844969fb0cf49.gradio.live\n"
          ]
        }
      ]
    }
  ]
}